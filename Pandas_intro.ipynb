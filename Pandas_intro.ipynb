{
 "cells": [
  {
   "cell_type": "code",
   "execution_count": 15,
   "metadata": {
    "ExecuteTime": {
     "end_time": "2019-07-01T06:51:41.082646Z",
     "start_time": "2019-07-01T06:51:41.045669Z"
    }
   },
   "outputs": [
    {
     "name": "stdout",
     "output_type": "stream",
     "text": [
      "   Serial No.  GRE Score  TOEFL Score  University Rating  SOP  LOR  CGPA  \\\n",
      "0           1        337          118                  4  4.5  4.5  9.65   \n",
      "1           2        324          107                  4  4.0  4.5  8.87   \n",
      "2           3        316          104                  3  3.0  3.5  8.00   \n",
      "3           4        322          110                  3  3.5  2.5  8.67   \n",
      "4           5        314          103                  2  2.0  3.0  8.21   \n",
      "\n",
      "   Research  Chance of Admit   \n",
      "0         1              0.92  \n",
      "1         1              0.76  \n",
      "2         1              0.72  \n",
      "3         1              0.80  \n",
      "4         0              0.65  \n",
      "     Serial No.  GRE Score  TOEFL Score  University Rating  SOP  LOR  CGPA  \\\n",
      "495         496        332          108                  5  4.5  4.0  9.02   \n",
      "496         497        337          117                  5  5.0  5.0  9.87   \n",
      "497         498        330          120                  5  4.5  5.0  9.56   \n",
      "498         499        312          103                  4  4.0  5.0  8.43   \n",
      "499         500        327          113                  4  4.5  4.5  9.04   \n",
      "\n",
      "     Research  Chance of Admit   \n",
      "495         1              0.87  \n",
      "496         1              0.96  \n",
      "497         1              0.93  \n",
      "498         0              0.73  \n",
      "499         0              0.84  \n"
     ]
    }
   ],
   "source": [
    "import numpy as np\n",
    "import pandas as pd\n",
    "mydata = pd.read_csv('Fremont_weather.txt')\n",
    "df = pd.read_csv('Admission_Predict_Ver1.1.csv')\n",
    "# print(mydata.shape)\n",
    "# print(mydata)\n",
    "# print(df)\n",
    "print(df.head()) # This will print first five data points, if you put some number in e.g. head(6) it will print 6 data sets\n",
    "\n",
    "print(df.tail()) # This will print lasr five data points, if you put some number in e.g. tail(6) it will print 6 data sets\n",
    "\n",
    "\n",
    "\n"
   ]
  },
  {
   "cell_type": "code",
   "execution_count": 33,
   "metadata": {
    "ExecuteTime": {
     "end_time": "2019-07-01T07:27:41.543290Z",
     "start_time": "2019-07-01T07:27:41.527299Z"
    }
   },
   "outputs": [
    {
     "name": "stdout",
     "output_type": "stream",
     "text": [
      "[ We have the data above for admission ]\n",
      "========================================================================================================================\n",
      "<class 'pandas.core.frame.DataFrame'>\n",
      "RangeIndex: 500 entries, 0 to 499\n",
      "Data columns (total 9 columns):\n",
      "Serial No.           500 non-null int64\n",
      "GRE Score            500 non-null int64\n",
      "TOEFL Score          500 non-null int64\n",
      "University Rating    500 non-null int64\n",
      "SOP                  500 non-null float64\n",
      "LOR                  500 non-null float64\n",
      "CGPA                 500 non-null float64\n",
      "Research             500 non-null int64\n",
      "Chance of Admit      500 non-null float64\n",
      "dtypes: float64(4), int64(5)\n",
      "memory usage: 35.2 KB\n"
     ]
    }
   ],
   "source": [
    "# print(df)\n",
    "def header(msg):\n",
    "    print('[ ' + msg + ' ]')\n",
    "    print('==' * 60)\n",
    "    \n",
    "header('We have the data above for admission')\n",
    "df.info() \n"
   ]
  },
  {
   "cell_type": "code",
   "execution_count": 34,
   "metadata": {
    "ExecuteTime": {
     "end_time": "2019-07-01T07:33:26.153846Z",
     "start_time": "2019-07-01T07:33:26.117869Z"
    }
   },
   "outputs": [
    {
     "name": "stdout",
     "output_type": "stream",
     "text": [
      "[ 4. df.dtypes ]\n",
      "========================================================================================================================\n",
      "Serial No.             int64\n",
      "GRE Score              int64\n",
      "TOEFL Score            int64\n",
      "University Rating      int64\n",
      "SOP                  float64\n",
      "LOR                  float64\n",
      "CGPA                 float64\n",
      "Research               int64\n",
      "Chance of Admit      float64\n",
      "dtype: object\n",
      "[ 4. df.index ]\n",
      "========================================================================================================================\n",
      "RangeIndex(start=0, stop=500, step=1)\n",
      "[ 4. df.columns ]\n",
      "========================================================================================================================\n",
      "Index(['Serial No.', 'GRE Score', 'TOEFL Score', 'University Rating', 'SOP',\n",
      "       'LOR', 'CGPA', 'Research', 'Chance of Admit '],\n",
      "      dtype='object')\n",
      "[ 4. df.values ]\n",
      "========================================================================================================================\n",
      "[[  1.   337.   118.   ...   9.65   1.     0.92]\n",
      " [  2.   324.   107.   ...   8.87   1.     0.76]\n",
      " [  3.   316.   104.   ...   8.     1.     0.72]\n",
      " ...\n",
      " [498.   330.   120.   ...   9.56   1.     0.93]\n",
      " [499.   312.   103.   ...   8.43   0.     0.73]\n",
      " [500.   327.   113.   ...   9.04   0.     0.84]]\n",
      "[ All the data ]\n",
      "========================================================================================================================\n",
      "     Serial No.  GRE Score  TOEFL Score  University Rating  SOP  LOR  CGPA  \\\n",
      "0             1        337          118                  4  4.5  4.5  9.65   \n",
      "1             2        324          107                  4  4.0  4.5  8.87   \n",
      "2             3        316          104                  3  3.0  3.5  8.00   \n",
      "3             4        322          110                  3  3.5  2.5  8.67   \n",
      "4             5        314          103                  2  2.0  3.0  8.21   \n",
      "5             6        330          115                  5  4.5  3.0  9.34   \n",
      "6             7        321          109                  3  3.0  4.0  8.20   \n",
      "7             8        308          101                  2  3.0  4.0  7.90   \n",
      "8             9        302          102                  1  2.0  1.5  8.00   \n",
      "9            10        323          108                  3  3.5  3.0  8.60   \n",
      "10           11        325          106                  3  3.5  4.0  8.40   \n",
      "11           12        327          111                  4  4.0  4.5  9.00   \n",
      "12           13        328          112                  4  4.0  4.5  9.10   \n",
      "13           14        307          109                  3  4.0  3.0  8.00   \n",
      "14           15        311          104                  3  3.5  2.0  8.20   \n",
      "15           16        314          105                  3  3.5  2.5  8.30   \n",
      "16           17        317          107                  3  4.0  3.0  8.70   \n",
      "17           18        319          106                  3  4.0  3.0  8.00   \n",
      "18           19        318          110                  3  4.0  3.0  8.80   \n",
      "19           20        303          102                  3  3.5  3.0  8.50   \n",
      "20           21        312          107                  3  3.0  2.0  7.90   \n",
      "21           22        325          114                  4  3.0  2.0  8.40   \n",
      "22           23        328          116                  5  5.0  5.0  9.50   \n",
      "23           24        334          119                  5  5.0  4.5  9.70   \n",
      "24           25        336          119                  5  4.0  3.5  9.80   \n",
      "25           26        340          120                  5  4.5  4.5  9.60   \n",
      "26           27        322          109                  5  4.5  3.5  8.80   \n",
      "27           28        298           98                  2  1.5  2.5  7.50   \n",
      "28           29        295           93                  1  2.0  2.0  7.20   \n",
      "29           30        310           99                  2  1.5  2.0  7.30   \n",
      "..          ...        ...          ...                ...  ...  ...   ...   \n",
      "470         471        320          110                  5  4.0  4.0  9.27   \n",
      "471         472        311          103                  3  2.0  4.0  8.09   \n",
      "472         473        327          116                  4  4.0  4.5  9.48   \n",
      "473         474        316          102                  2  4.0  3.5  8.15   \n",
      "474         475        308          105                  4  3.0  2.5  7.95   \n",
      "475         476        300          101                  3  3.5  2.5  7.88   \n",
      "476         477        304          104                  3  2.5  2.0  8.12   \n",
      "477         478        309          105                  4  3.5  2.0  8.18   \n",
      "478         479        318          103                  3  4.0  4.5  8.49   \n",
      "479         480        325          110                  4  4.5  4.0  8.96   \n",
      "480         481        321          102                  3  3.5  4.0  9.01   \n",
      "481         482        323          107                  4  3.0  2.5  8.48   \n",
      "482         483        328          113                  4  4.0  2.5  8.77   \n",
      "483         484        304          103                  5  5.0  3.0  7.92   \n",
      "484         485        317          106                  3  3.5  3.0  7.89   \n",
      "485         486        311          101                  2  2.5  3.5  8.34   \n",
      "486         487        319          102                  3  2.5  2.5  8.37   \n",
      "487         488        327          115                  4  3.5  4.0  9.14   \n",
      "488         489        322          112                  3  3.0  4.0  8.62   \n",
      "489         490        302          110                  3  4.0  4.5  8.50   \n",
      "490         491        307          105                  2  2.5  4.5  8.12   \n",
      "491         492        297           99                  4  3.0  3.5  7.81   \n",
      "492         493        298          101                  4  2.5  4.5  7.69   \n",
      "493         494        300           95                  2  3.0  1.5  8.22   \n",
      "494         495        301           99                  3  2.5  2.0  8.45   \n",
      "495         496        332          108                  5  4.5  4.0  9.02   \n",
      "496         497        337          117                  5  5.0  5.0  9.87   \n",
      "497         498        330          120                  5  4.5  5.0  9.56   \n",
      "498         499        312          103                  4  4.0  5.0  8.43   \n",
      "499         500        327          113                  4  4.5  4.5  9.04   \n",
      "\n",
      "     Research  Chance of Admit   \n",
      "0           1              0.92  \n",
      "1           1              0.76  \n",
      "2           1              0.72  \n",
      "3           1              0.80  \n",
      "4           0              0.65  \n",
      "5           1              0.90  \n",
      "6           1              0.75  \n",
      "7           0              0.68  \n",
      "8           0              0.50  \n",
      "9           0              0.45  \n",
      "10          1              0.52  \n",
      "11          1              0.84  \n",
      "12          1              0.78  \n",
      "13          1              0.62  \n",
      "14          1              0.61  \n",
      "15          0              0.54  \n",
      "16          0              0.66  \n",
      "17          1              0.65  \n",
      "18          0              0.63  \n",
      "19          0              0.62  \n",
      "20          1              0.64  \n",
      "21          0              0.70  \n",
      "22          1              0.94  \n",
      "23          1              0.95  \n",
      "24          1              0.97  \n",
      "25          1              0.94  \n",
      "26          0              0.76  \n",
      "27          1              0.44  \n",
      "28          0              0.46  \n",
      "29          0              0.54  \n",
      "..        ...               ...  \n",
      "470         1              0.87  \n",
      "471         0              0.64  \n",
      "472         1              0.90  \n",
      "473         0              0.67  \n",
      "474         1              0.67  \n",
      "475         0              0.59  \n",
      "476         0              0.62  \n",
      "477         0              0.65  \n",
      "478         1              0.71  \n",
      "479         1              0.79  \n",
      "480         1              0.80  \n",
      "481         1              0.78  \n",
      "482         1              0.83  \n",
      "483         0              0.71  \n",
      "484         1              0.73  \n",
      "485         1              0.70  \n",
      "486         0              0.68  \n",
      "487         0              0.79  \n",
      "488         1              0.76  \n",
      "489         0              0.65  \n",
      "490         1              0.67  \n",
      "491         0              0.54  \n",
      "492         1              0.53  \n",
      "493         1              0.62  \n",
      "494         1              0.68  \n",
      "495         1              0.87  \n",
      "496         1              0.96  \n",
      "497         1              0.93  \n",
      "498         0              0.73  \n",
      "499         0              0.84  \n",
      "\n",
      "[500 rows x 9 columns]\n"
     ]
    }
   ],
   "source": [
    "header(\"4. df.dtypes\")\n",
    "print(df.dtypes)\n",
    "header(\"4. df.index\")\n",
    "print(df.index)\n",
    "\n",
    "header(\"4. df.columns\")\n",
    "print(df.columns)\n",
    "\n",
    "header(\"4. df.values\")\n",
    "print(df.values)\n",
    "\n",
    "header(\"All the data\")\n",
    "print(df)"
   ]
  },
  {
   "cell_type": "code",
   "execution_count": 36,
   "metadata": {
    "ExecuteTime": {
     "end_time": "2019-07-01T07:34:52.507701Z",
     "start_time": "2019-07-01T07:34:52.425751Z"
    }
   },
   "outputs": [
    {
     "name": "stdout",
     "output_type": "stream",
     "text": [
      "[ 5. df.describe() ]\n",
      "========================================================================================================================\n",
      "       Serial No.   GRE Score  TOEFL Score  University Rating         SOP  \\\n",
      "count  500.000000  500.000000   500.000000         500.000000  500.000000   \n",
      "mean   250.500000  316.472000   107.192000           3.114000    3.374000   \n",
      "std    144.481833   11.295148     6.081868           1.143512    0.991004   \n",
      "min      1.000000  290.000000    92.000000           1.000000    1.000000   \n",
      "25%    125.750000  308.000000   103.000000           2.000000    2.500000   \n",
      "50%    250.500000  317.000000   107.000000           3.000000    3.500000   \n",
      "75%    375.250000  325.000000   112.000000           4.000000    4.000000   \n",
      "max    500.000000  340.000000   120.000000           5.000000    5.000000   \n",
      "\n",
      "             LOR        CGPA    Research  Chance of Admit   \n",
      "count  500.00000  500.000000  500.000000         500.00000  \n",
      "mean     3.48400    8.576440    0.560000           0.72174  \n",
      "std      0.92545    0.604813    0.496884           0.14114  \n",
      "min      1.00000    6.800000    0.000000           0.34000  \n",
      "25%      3.00000    8.127500    0.000000           0.63000  \n",
      "50%      3.50000    8.560000    1.000000           0.72000  \n",
      "75%      4.00000    9.040000    1.000000           0.82000  \n",
      "max      5.00000    9.920000    1.000000           0.97000  \n"
     ]
    }
   ],
   "source": [
    "# 5. statistical summary of each column\n",
    "header(\"5. df.describe()\")\n",
    "print(df.describe())\n"
   ]
  },
  {
   "cell_type": "code",
   "execution_count": 55,
   "metadata": {
    "ExecuteTime": {
     "end_time": "2019-07-01T07:49:59.888721Z",
     "start_time": "2019-07-01T07:49:59.854740Z"
    }
   },
   "outputs": [
    {
     "name": "stdout",
     "output_type": "stream",
     "text": [
      "   Serial No.  GRE Score  TOEFL Score  University Rating  SOP  LOR  CGPA  \\\n",
      "0           1        337          118                  4  4.5  4.5  9.65   \n",
      "1           2        324          107                  4  4.0  4.5  8.87   \n",
      "2           3        316          104                  3  3.0  3.5  8.00   \n",
      "3           4        322          110                  3  3.5  2.5  8.67   \n",
      "4           5        314          103                  2  2.0  3.0  8.21   \n",
      "5           6        330          115                  5  4.5  3.0  9.34   \n",
      "6           7        321          109                  3  3.0  4.0  8.20   \n",
      "7           8        308          101                  2  3.0  4.0  7.90   \n",
      "8           9        302          102                  1  2.0  1.5  8.00   \n",
      "9          10        323          108                  3  3.5  3.0  8.60   \n",
      "\n",
      "   Research  Chance of Admit   \n",
      "0         1              0.92  \n",
      "1         1              0.76  \n",
      "2         1              0.72  \n",
      "3         1              0.80  \n",
      "4         0              0.65  \n",
      "5         1              0.90  \n",
      "6         1              0.75  \n",
      "7         0              0.68  \n",
      "8         0              0.50  \n",
      "9         0              0.45  \n",
      "[ 7. slicing -- Research  ]\n",
      "========================================================================================================================\n",
      "0    1\n",
      "1    1\n",
      "2    1\n",
      "3    1\n",
      "4    0\n",
      "5    1\n",
      "6    1\n",
      "7    0\n",
      "8    0\n",
      "9    0\n",
      "Name: Research, dtype: int64\n",
      "[ 7. slicing -- df['Research '] ]\n",
      "========================================================================================================================\n",
      "0    4\n",
      "1    4\n",
      "2    3\n",
      "3    3\n",
      "4    2\n",
      "5    5\n",
      "6    3\n",
      "7    2\n",
      "8    1\n",
      "9    3\n",
      "Name: University Rating, dtype: int64\n",
      "[ 7. slicing -- df[2:4] ]\n",
      "========================================================================================================================\n",
      "   Serial No.  GRE Score  TOEFL Score  University Rating  SOP  LOR  CGPA  \\\n",
      "2           3        316          104                  3  3.0  3.5  8.00   \n",
      "3           4        322          110                  3  3.5  2.5  8.67   \n",
      "\n",
      "   Research  Chance of Admit   \n",
      "2         1              0.72  \n",
      "3         1              0.80  \n"
     ]
    }
   ],
   "source": [
    "# print(df)\n",
    "x= df.head(10)\n",
    "print(x)\n",
    "# 7. slicing records\n",
    "header(\"7. slicing -- Research \")\n",
    "print(x.Research )\n",
    "\n",
    "header(\"7. slicing -- df['Research ']\")\n",
    "print(x['University Rating'])\n",
    "\n",
    "header(\"7. slicing -- df[2:4]\")            # index with single column\n",
    "print(x[2:4])    "
   ]
  },
  {
   "cell_type": "code",
   "execution_count": 58,
   "metadata": {
    "ExecuteTime": {
     "end_time": "2019-07-01T07:54:10.227988Z",
     "start_time": "2019-07-01T07:54:10.215993Z"
    }
   },
   "outputs": [
    {
     "name": "stdout",
     "output_type": "stream",
     "text": [
      "   Research  GRE Score\n",
      "0         1        337\n",
      "1         1        324\n",
      "2         1        316\n",
      "3         1        322\n",
      "4         0        314\n",
      "5         1        330\n",
      "6         1        321\n",
      "7         0        308\n",
      "8         0        302\n",
      "9         0        323\n"
     ]
    }
   ],
   "source": [
    "print(x[['Research','GRE Score']])"
   ]
  },
  {
   "cell_type": "code",
   "execution_count": 67,
   "metadata": {
    "ExecuteTime": {
     "end_time": "2019-07-01T08:01:31.118880Z",
     "start_time": "2019-07-01T08:01:31.106886Z"
    }
   },
   "outputs": [
    {
     "name": "stdout",
     "output_type": "stream",
     "text": [
      "[ 7. slicing -- df.loc[:,['GRE Score','CGPA']] ]\n",
      "========================================================================================================================\n",
      "   GRE Score  CGPA\n",
      "0        337  9.65\n",
      "1        324  8.87\n",
      "2        316  8.00\n",
      "3        322  8.67\n",
      "4        314  8.21\n",
      "5        330  9.34\n",
      "6        321  8.20\n",
      "7        308  7.90\n",
      "8        302  8.00\n",
      "9        323  8.60\n"
     ]
    }
   ],
   "source": [
    "header(\"7. slicing -- df.loc[:,['GRE Score','CGPA']]\")\n",
    "print(x.loc[:,['GRE Score','CGPA']])         # multiple columns: df.loc[from_row:to_row,['GRE Score','CGPA']]"
   ]
  },
  {
   "cell_type": "code",
   "execution_count": 75,
   "metadata": {
    "ExecuteTime": {
     "end_time": "2019-07-01T08:07:57.779526Z",
     "start_time": "2019-07-01T08:07:57.768534Z"
    }
   },
   "outputs": [
    {
     "name": "stdout",
     "output_type": "stream",
     "text": [
      "[  slicing scalar value -- df.loc[9,['CGPA']] ]\n",
      "========================================================================================================================\n",
      "CGPA    8.6\n",
      "Name: 9, dtype: float64\n"
     ]
    }
   ],
   "source": [
    "#This will print the single value\n",
    "header(\" slicing scalar value -- df.loc[9,['CGPA']]\")\n",
    "print(x.loc[9,['CGPA']])"
   ]
  },
  {
   "cell_type": "code",
   "execution_count": 74,
   "metadata": {
    "ExecuteTime": {
     "end_time": "2019-07-01T08:07:45.979257Z",
     "start_time": "2019-07-01T08:07:45.969263Z"
    }
   },
   "outputs": [
    {
     "name": "stdout",
     "output_type": "stream",
     "text": [
      "[  x.iloc[3:5,[0,2]] ]\n",
      "========================================================================================================================\n",
      "   Serial No.  TOEFL Score\n",
      "3           4          110\n",
      "4           5          103\n"
     ]
    }
   ],
   "source": [
    "\n",
    "header(\" x.iloc[3:5,[0,2]]\")            # index location can receive range or list of indices\n",
    "print(x.iloc[3:5,[0,2]])"
   ]
  }
 ],
 "metadata": {
  "kernelspec": {
   "display_name": "Python 3",
   "language": "python",
   "name": "python3"
  },
  "language_info": {
   "codemirror_mode": {
    "name": "ipython",
    "version": 3
   },
   "file_extension": ".py",
   "mimetype": "text/x-python",
   "name": "python",
   "nbconvert_exporter": "python",
   "pygments_lexer": "ipython3",
   "version": "3.7.3"
  },
  "toc": {
   "base_numbering": 1,
   "nav_menu": {},
   "number_sections": true,
   "sideBar": true,
   "skip_h1_title": false,
   "title_cell": "Table of Contents",
   "title_sidebar": "Contents",
   "toc_cell": false,
   "toc_position": {},
   "toc_section_display": true,
   "toc_window_display": false
  },
  "varInspector": {
   "cols": {
    "lenName": 16,
    "lenType": 16,
    "lenVar": 40
   },
   "kernels_config": {
    "python": {
     "delete_cmd_postfix": "",
     "delete_cmd_prefix": "del ",
     "library": "var_list.py",
     "varRefreshCmd": "print(var_dic_list())"
    },
    "r": {
     "delete_cmd_postfix": ") ",
     "delete_cmd_prefix": "rm(",
     "library": "var_list.r",
     "varRefreshCmd": "cat(var_dic_list()) "
    }
   },
   "types_to_exclude": [
    "module",
    "function",
    "builtin_function_or_method",
    "instance",
    "_Feature"
   ],
   "window_display": false
  }
 },
 "nbformat": 4,
 "nbformat_minor": 2
}
